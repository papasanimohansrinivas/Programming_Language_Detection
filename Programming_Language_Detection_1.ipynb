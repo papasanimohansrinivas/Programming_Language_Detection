{
  "nbformat": 4,
  "nbformat_minor": 0,
  "metadata": {
    "colab": {
      "name": "Programming_Language_Detection.ipynb",
      "version": "0.3.2",
      "provenance": [],
      "collapsed_sections": []
    },
    "kernelspec": {
      "name": "python2",
      "display_name": "Python 2"
    },
    "accelerator": "GPU"
  },
  "cells": [
    {
      "cell_type": "markdown",
      "metadata": {
        "id": "view-in-github",
        "colab_type": "text"
      },
      "source": [
        "[View in Colaboratory](https://colab.research.google.com/github/papasanimohansrinivas/Programming_Language_Detection/blob/added_further_set/Programming_Language_Detection_1.ipynb)"
      ]
    },
    {
      "metadata": {
        "id": "C6Yr7seD-572",
        "colab_type": "code",
        "colab": {
          "base_uri": "https://localhost:8080/",
          "height": 104
        },
        "outputId": "ba0f536f-6030-4e11-8aaf-e21825ba83cb"
      },
      "cell_type": "code",
      "source": [
        "!git clone https://github.com/papasanimohansrinivas/Programming_Language_Detection.git -b added_further_set"
      ],
      "execution_count": 76,
      "outputs": [
        {
          "output_type": "stream",
          "text": [
            "Cloning into 'Programming_Language_Detection'...\n",
            "remote: Counting objects: 27, done.\u001b[K\n",
            "remote: Compressing objects: 100% (24/24), done.\u001b[K\n",
            "remote: Total 27 (delta 7), reused 14 (delta 1), pack-reused 0\u001b[K\n",
            "Unpacking objects: 100% (27/27), done.\n"
          ],
          "name": "stdout"
        }
      ]
    },
    {
      "metadata": {
        "id": "UhIc5sHm_QGw",
        "colab_type": "code",
        "colab": {}
      },
      "cell_type": "code",
      "source": [
        "import pandas"
      ],
      "execution_count": 0,
      "outputs": []
    },
    {
      "metadata": {
        "id": "vZFr64EPrned",
        "colab_type": "code",
        "colab": {}
      },
      "cell_type": "code",
      "source": [
        "rm -rf master"
      ],
      "execution_count": 0,
      "outputs": []
    },
    {
      "metadata": {
        "id": "QG8nGDqoAhVo",
        "colab_type": "code",
        "colab": {
          "base_uri": "https://localhost:8080/",
          "height": 52
        },
        "outputId": "0ebc3711-063e-4c20-8d46-7a051465e827"
      },
      "cell_type": "code",
      "source": [
        "ls"
      ],
      "execution_count": 80,
      "outputs": [
        {
          "output_type": "stream",
          "text": [
            "complimentary_data_set.csv  Programming_Data.csv                  walkthedir.py\r\n",
            "openCSV.py                  Programming_Language_Detection.ipynb\r\n"
          ],
          "name": "stdout"
        }
      ]
    },
    {
      "metadata": {
        "id": "35vqMq5YAaA8",
        "colab_type": "code",
        "colab": {
          "base_uri": "https://localhost:8080/",
          "height": 35
        },
        "outputId": "dd029013-a36d-4282-8791-20b1a6a43552"
      },
      "cell_type": "code",
      "source": [
        "cd Programming_Language_Detection/"
      ],
      "execution_count": 79,
      "outputs": [
        {
          "output_type": "stream",
          "text": [
            "/content/Programming_Language_Detection\n"
          ],
          "name": "stdout"
        }
      ]
    },
    {
      "metadata": {
        "id": "maDOt3PVzgFa",
        "colab_type": "text"
      },
      "cell_type": "markdown",
      "source": [
        "#### If you dont use header = None option initially loading into dataframe is going to be a headache "
      ]
    },
    {
      "metadata": {
        "id": "1dtqolkdAWSi",
        "colab_type": "code",
        "colab": {}
      },
      "cell_type": "code",
      "source": [
        "t=pandas.read_csv(\"complimentary_data_set.csv\",header=None)"
      ],
      "execution_count": 0,
      "outputs": []
    },
    {
      "metadata": {
        "id": "LBvTvYANmFcT",
        "colab_type": "code",
        "colab": {}
      },
      "cell_type": "code",
      "source": [
        "t = t.sample(frac=1).reset_index(drop=True)"
      ],
      "execution_count": 0,
      "outputs": []
    },
    {
      "metadata": {
        "id": "ow4afol-dp23",
        "colab_type": "code",
        "colab": {}
      },
      "cell_type": "code",
      "source": [
        "from collections import Counter"
      ],
      "execution_count": 0,
      "outputs": []
    },
    {
      "metadata": {
        "id": "Io23xgu2A2E_",
        "colab_type": "code",
        "colab": {
          "base_uri": "https://localhost:8080/",
          "height": 139
        },
        "outputId": "e75a5807-2864-4462-8372-0a01fbab7624"
      },
      "cell_type": "code",
      "source": [
        "Counter(t['language'])"
      ],
      "execution_count": 86,
      "outputs": [
        {
          "output_type": "execute_result",
          "data": {
            "text/plain": [
              "Counter({'bsh': 45,\n",
              "         'coffee': 210,\n",
              "         'cpp': 796,\n",
              "         'java': 2376,\n",
              "         'js': 3201,\n",
              "         'npy': 29,\n",
              "         'sh': 1121})"
            ]
          },
          "metadata": {
            "tags": []
          },
          "execution_count": 86
        }
      ]
    },
    {
      "metadata": {
        "id": "RZMMxyJ4CE2k",
        "colab_type": "code",
        "colab": {}
      },
      "cell_type": "code",
      "source": [
        "t.columns = ['code','language']"
      ],
      "execution_count": 0,
      "outputs": []
    },
    {
      "metadata": {
        "id": "NdftlNrHymlA",
        "colab_type": "text"
      },
      "cell_type": "markdown",
      "source": [
        "### Drop the nan rows from code columns \n",
        "\n",
        "#### reason i got nan into the csv is even mysterious to me ?\n"
      ]
    },
    {
      "metadata": {
        "id": "F4PUYdLz2pk1",
        "colab_type": "code",
        "colab": {}
      },
      "cell_type": "code",
      "source": [
        "import numpy as np"
      ],
      "execution_count": 0,
      "outputs": []
    },
    {
      "metadata": {
        "id": "QM1FYg3XyvrX",
        "colab_type": "code",
        "colab": {}
      },
      "cell_type": "code",
      "source": [
        "t=t[t.code!=np.nan]"
      ],
      "execution_count": 0,
      "outputs": []
    },
    {
      "metadata": {
        "id": "CiaUzqoqVw4N",
        "colab_type": "code",
        "colab": {}
      },
      "cell_type": "code",
      "source": [
        "def tokenize_the_code(column):\n",
        "  \n",
        "  import re\n",
        "\n",
        "  pattern = r\"\"\"[\\w']+|[\"\"!\"#$%&'()*+,-./:;<=>?@[\\]^_`{|}~\"\"\\\\]\"\"\"\n",
        "  \n",
        "  try:\n",
        "    \n",
        "    return re.findall(pattern,column)\n",
        "  \n",
        "  except TypeError:\n",
        "    \n",
        "    return \"\"\n",
        "\n",
        "  "
      ],
      "execution_count": 0,
      "outputs": []
    },
    {
      "metadata": {
        "id": "AbeRGWDLH2aL",
        "colab_type": "code",
        "colab": {}
      },
      "cell_type": "code",
      "source": [
        "t['code']=t['code'].apply(tokenize_the_code)"
      ],
      "execution_count": 0,
      "outputs": []
    },
    {
      "metadata": {
        "id": "tm7xRy7tKtAn",
        "colab_type": "code",
        "colab": {}
      },
      "cell_type": "code",
      "source": [
        "t=t[t['code']!=\"\"]"
      ],
      "execution_count": 0,
      "outputs": []
    },
    {
      "metadata": {
        "id": "iqK5ZYgX6ETQ",
        "colab_type": "text"
      },
      "cell_type": "markdown",
      "source": [
        "### know the length of the programs by ploting the length of the programs"
      ]
    },
    {
      "metadata": {
        "id": "K0ulqDRO6CuE",
        "colab_type": "code",
        "colab": {}
      },
      "cell_type": "code",
      "source": [
        "program_lengths = pandas.DataFrame(map(len,t['code']))"
      ],
      "execution_count": 0,
      "outputs": []
    },
    {
      "metadata": {
        "id": "2-EjGefBWC6_",
        "colab_type": "code",
        "colab": {
          "base_uri": "https://localhost:8080/",
          "height": 52
        },
        "outputId": "5f4ee754-e99b-44d5-9cc7-048f766329b1"
      },
      "cell_type": "code",
      "source": [
        "program_lengths.mean()"
      ],
      "execution_count": 98,
      "outputs": [
        {
          "output_type": "execute_result",
          "data": {
            "text/plain": [
              "0    1506.795057\n",
              "dtype: float64"
            ]
          },
          "metadata": {
            "tags": []
          },
          "execution_count": 98
        }
      ]
    },
    {
      "metadata": {
        "id": "zcoCJKux3rIH",
        "colab_type": "code",
        "colab": {
          "base_uri": "https://localhost:8080/",
          "height": 365
        },
        "outputId": "8210e1a1-f267-4ee5-8e39-608eab48f414"
      },
      "cell_type": "code",
      "source": [
        "program_lengths.plot()"
      ],
      "execution_count": 99,
      "outputs": [
        {
          "output_type": "execute_result",
          "data": {
            "text/plain": [
              "<matplotlib.axes._subplots.AxesSubplot at 0x7fb1ed776cd0>"
            ]
          },
          "metadata": {
            "tags": []
          },
          "execution_count": 99
        },
        {
          "output_type": "display_data",
          "data": {
            "image/png": "[encoded data removed]",
            "text/plain": [
              "<matplotlib.figure.Figure at 0x7fb2249ddbd0>"
            ]
          },
          "metadata": {
            "tags": []
          }
        }
      ]
    },
    {
      "metadata": {
        "id": "PMZ7QUNhDa71",
        "colab_type": "code",
        "colab": {}
      },
      "cell_type": "code",
      "source": [
        "#@title Choose the programs when they have length of tokens are less than 400 issue is due to computing because when you categorical encode the featuresa are going over 150000 and the colab hangs !\n",
        "new_t=t[t['code'].map(len)<=400]"
      ],
      "execution_count": 0,
      "outputs": []
    },
    {
      "metadata": {
        "id": "qzz_QsgXn9sA",
        "colab_type": "code",
        "colab": {}
      },
      "cell_type": "code",
      "source": [
        "program_leng = pandas.DataFrame(map(len,new_t['code']))"
      ],
      "execution_count": 0,
      "outputs": []
    },
    {
      "metadata": {
        "id": "WyMSyEHmspDM",
        "colab_type": "code",
        "colab": {
          "base_uri": "https://localhost:8080/",
          "height": 365
        },
        "outputId": "80f011f9-d0d9-4195-8860-d57930b92609"
      },
      "cell_type": "code",
      "source": [
        "program_leng.plot()"
      ],
      "execution_count": 108,
      "outputs": [
        {
          "output_type": "execute_result",
          "data": {
            "text/plain": [
              "<matplotlib.axes._subplots.AxesSubplot at 0x7fb200e10790>"
            ]
          },
          "metadata": {
            "tags": []
          },
          "execution_count": 108
        },
        {
          "output_type": "display_data",
          "data": {
            "image/png": "[encoded data removed]",
            "text/plain": [
              "<matplotlib.figure.Figure at 0x7fb1ed5ad550>"
            ]
          },
          "metadata": {
            "tags": []
          }
        }
      ]
    },
    {
      "metadata": {
        "id": "hzlscDmC7Ce_",
        "colab_type": "code",
        "colab": {}
      },
      "cell_type": "code",
      "source": [
        "df=pandas.DataFrame(map(np.array,new_t['code']))"
      ],
      "execution_count": 0,
      "outputs": []
    },
    {
      "metadata": {
        "id": "9sVnry9RGuKm",
        "colab_type": "code",
        "colab": {}
      },
      "cell_type": "code",
      "source": [
        "from collections import Counter"
      ],
      "execution_count": 0,
      "outputs": []
    },
    {
      "metadata": {
        "id": "qIeflRstIM5v",
        "colab_type": "code",
        "colab": {
          "base_uri": "https://localhost:8080/",
          "height": 251
        },
        "outputId": "85a7a31a-a079-4542-a131-d27d2744d799"
      },
      "cell_type": "code",
      "source": [
        "df.head()"
      ],
      "execution_count": 110,
      "outputs": [
        {
          "output_type": "execute_result",
          "data": {
            "text/html": [
              "<div>\n",
              "<style scoped>\n",
              "    .dataframe tbody tr th:only-of-type {\n",
              "        vertical-align: middle;\n",
              "    }\n",
              "\n",
              "    .dataframe tbody tr th {\n",
              "        vertical-align: top;\n",
              "    }\n",
              "\n",
              "    .dataframe thead th {\n",
              "        text-align: right;\n",
              "    }\n",
              "</style>\n",
              "<table border=\"1\" class=\"dataframe\">\n",
              "  <thead>\n",
              "    <tr style=\"text-align: right;\">\n",
              "      <th></th>\n",
              "      <th>0</th>\n",
              "      <th>1</th>\n",
              "      <th>2</th>\n",
              "      <th>3</th>\n",
              "      <th>4</th>\n",
              "      <th>5</th>\n",
              "      <th>6</th>\n",
              "      <th>7</th>\n",
              "      <th>8</th>\n",
              "      <th>9</th>\n",
              "      <th>...</th>\n",
              "      <th>390</th>\n",
              "      <th>391</th>\n",
              "      <th>392</th>\n",
              "      <th>393</th>\n",
              "      <th>394</th>\n",
              "      <th>395</th>\n",
              "      <th>396</th>\n",
              "      <th>397</th>\n",
              "      <th>398</th>\n",
              "      <th>399</th>\n",
              "    </tr>\n",
              "  </thead>\n",
              "  <tbody>\n",
              "    <tr>\n",
              "      <th>0</th>\n",
              "      <td>/</td>\n",
              "      <td>*</td>\n",
              "      <td>(</td>\n",
              "      <td>C</td>\n",
              "      <td>)</td>\n",
              "      <td>Copyright</td>\n",
              "      <td>$</td>\n",
              "      <td>{</td>\n",
              "      <td>year</td>\n",
              "      <td>}</td>\n",
              "      <td>...</td>\n",
              "      <td>None</td>\n",
              "      <td>None</td>\n",
              "      <td>None</td>\n",
              "      <td>None</td>\n",
              "      <td>None</td>\n",
              "      <td>None</td>\n",
              "      <td>None</td>\n",
              "      <td>None</td>\n",
              "      <td>None</td>\n",
              "      <td>None</td>\n",
              "    </tr>\n",
              "    <tr>\n",
              "      <th>1</th>\n",
              "      <td>#</td>\n",
              "      <td>define</td>\n",
              "      <td>__STDC_FORMAT_MACROS</td>\n",
              "      <td>#</td>\n",
              "      <td>include</td>\n",
              "      <td>\"</td>\n",
              "      <td>THDTensor</td>\n",
              "      <td>.</td>\n",
              "      <td>h</td>\n",
              "      <td>\"</td>\n",
              "      <td>...</td>\n",
              "      <td>None</td>\n",
              "      <td>None</td>\n",
              "      <td>None</td>\n",
              "      <td>None</td>\n",
              "      <td>None</td>\n",
              "      <td>None</td>\n",
              "      <td>None</td>\n",
              "      <td>None</td>\n",
              "      <td>None</td>\n",
              "      <td>None</td>\n",
              "    </tr>\n",
              "    <tr>\n",
              "      <th>2</th>\n",
              "      <td>module</td>\n",
              "      <td>.</td>\n",
              "      <td>exports</td>\n",
              "      <td>=</td>\n",
              "      <td>require</td>\n",
              "      <td>(</td>\n",
              "      <td>'</td>\n",
              "      <td>.</td>\n",
              "      <td>/</td>\n",
              "      <td>readable'</td>\n",
              "      <td>...</td>\n",
              "      <td>None</td>\n",
              "      <td>None</td>\n",
              "      <td>None</td>\n",
              "      <td>None</td>\n",
              "      <td>None</td>\n",
              "      <td>None</td>\n",
              "      <td>None</td>\n",
              "      <td>None</td>\n",
              "      <td>None</td>\n",
              "      <td>None</td>\n",
              "    </tr>\n",
              "    <tr>\n",
              "      <th>3</th>\n",
              "      <td>module</td>\n",
              "      <td>.</td>\n",
              "      <td>exports</td>\n",
              "      <td>=</td>\n",
              "      <td>require</td>\n",
              "      <td>(</td>\n",
              "      <td>'</td>\n",
              "      <td>.</td>\n",
              "      <td>/</td>\n",
              "      <td>functions'</td>\n",
              "      <td>...</td>\n",
              "      <td>None</td>\n",
              "      <td>None</td>\n",
              "      <td>None</td>\n",
              "      <td>None</td>\n",
              "      <td>None</td>\n",
              "      <td>None</td>\n",
              "      <td>None</td>\n",
              "      <td>None</td>\n",
              "      <td>None</td>\n",
              "      <td>None</td>\n",
              "    </tr>\n",
              "    <tr>\n",
              "      <th>4</th>\n",
              "      <td>#</td>\n",
              "      <td>!</td>\n",
              "      <td>/</td>\n",
              "      <td>bin</td>\n",
              "      <td>/</td>\n",
              "      <td>sh</td>\n",
              "      <td>#</td>\n",
              "      <td>#</td>\n",
              "      <td>Licensed</td>\n",
              "      <td>to</td>\n",
              "      <td>...</td>\n",
              "      <td>None</td>\n",
              "      <td>None</td>\n",
              "      <td>None</td>\n",
              "      <td>None</td>\n",
              "      <td>None</td>\n",
              "      <td>None</td>\n",
              "      <td>None</td>\n",
              "      <td>None</td>\n",
              "      <td>None</td>\n",
              "      <td>None</td>\n",
              "    </tr>\n",
              "  </tbody>\n",
              "</table>\n",
              "<p>5 rows × 400 columns</p>\n",
              "</div>"
            ],
            "text/plain": [
              "      0       1                     2    3        4          5          6    \\\n",
              "0       /       *                     (    C        )  Copyright          $   \n",
              "1       #  define  __STDC_FORMAT_MACROS    #  include          \"  THDTensor   \n",
              "2  module       .               exports    =  require          (          '   \n",
              "3  module       .               exports    =  require          (          '   \n",
              "4       #       !                     /  bin        /         sh          #   \n",
              "\n",
              "  7         8           9    ...    390   391   392   393   394   395   396  \\\n",
              "0   {      year           }  ...   None  None  None  None  None  None  None   \n",
              "1   .         h           \"  ...   None  None  None  None  None  None  None   \n",
              "2   .         /   readable'  ...   None  None  None  None  None  None  None   \n",
              "3   .         /  functions'  ...   None  None  None  None  None  None  None   \n",
              "4   #  Licensed          to  ...   None  None  None  None  None  None  None   \n",
              "\n",
              "    397   398   399  \n",
              "0  None  None  None  \n",
              "1  None  None  None  \n",
              "2  None  None  None  \n",
              "3  None  None  None  \n",
              "4  None  None  None  \n",
              "\n",
              "[5 rows x 400 columns]"
            ]
          },
          "metadata": {
            "tags": []
          },
          "execution_count": 110
        }
      ]
    },
    {
      "metadata": {
        "id": "Yb0M0bPEgIGn",
        "colab_type": "code",
        "colab": {}
      },
      "cell_type": "code",
      "source": [
        "modified_df = pandas.get_dummies(df, columns=df.columns)"
      ],
      "execution_count": 0,
      "outputs": []
    },
    {
      "metadata": {
        "id": "J_7mIBwQgz9v",
        "colab_type": "code",
        "colab": {
          "base_uri": "https://localhost:8080/",
          "height": 251
        },
        "outputId": "f8aea261-d7a9-4472-f85d-90887a8f9e10"
      },
      "cell_type": "code",
      "source": [
        "modified_df.head()"
      ],
      "execution_count": 113,
      "outputs": [
        {
          "output_type": "execute_result",
          "data": {
            "text/html": [
              "<div>\n",
              "<style scoped>\n",
              "    .dataframe tbody tr th:only-of-type {\n",
              "        vertical-align: middle;\n",
              "    }\n",
              "\n",
              "    .dataframe tbody tr th {\n",
              "        vertical-align: top;\n",
              "    }\n",
              "\n",
              "    .dataframe thead th {\n",
              "        text-align: right;\n",
              "    }\n",
              "</style>\n",
              "<table border=\"1\" class=\"dataframe\">\n",
              "  <thead>\n",
              "    <tr style=\"text-align: right;\">\n",
              "      <th></th>\n",
              "      <th>0_\"</th>\n",
              "      <th>0_#</th>\n",
              "      <th>0_$</th>\n",
              "      <th>0_'sue</th>\n",
              "      <th>0_'use</th>\n",
              "      <th>0_(</th>\n",
              "      <th>0_.</th>\n",
              "      <th>0_/</th>\n",
              "      <th>0_;</th>\n",
              "      <th>0_AnsiPainter</th>\n",
              "      <th>...</th>\n",
              "      <th>396_return</th>\n",
              "      <th>396_}</th>\n",
              "      <th>397_;</th>\n",
              "      <th>397_false</th>\n",
              "      <th>397_target</th>\n",
              "      <th>397_}</th>\n",
              "      <th>398_)</th>\n",
              "      <th>398_}</th>\n",
              "      <th>399_;</th>\n",
              "      <th>399_}</th>\n",
              "    </tr>\n",
              "  </thead>\n",
              "  <tbody>\n",
              "    <tr>\n",
              "      <th>0</th>\n",
              "      <td>0</td>\n",
              "      <td>0</td>\n",
              "      <td>0</td>\n",
              "      <td>0</td>\n",
              "      <td>0</td>\n",
              "      <td>0</td>\n",
              "      <td>0</td>\n",
              "      <td>1</td>\n",
              "      <td>0</td>\n",
              "      <td>0</td>\n",
              "      <td>...</td>\n",
              "      <td>0</td>\n",
              "      <td>0</td>\n",
              "      <td>0</td>\n",
              "      <td>0</td>\n",
              "      <td>0</td>\n",
              "      <td>0</td>\n",
              "      <td>0</td>\n",
              "      <td>0</td>\n",
              "      <td>0</td>\n",
              "      <td>0</td>\n",
              "    </tr>\n",
              "    <tr>\n",
              "      <th>1</th>\n",
              "      <td>0</td>\n",
              "      <td>1</td>\n",
              "      <td>0</td>\n",
              "      <td>0</td>\n",
              "      <td>0</td>\n",
              "      <td>0</td>\n",
              "      <td>0</td>\n",
              "      <td>0</td>\n",
              "      <td>0</td>\n",
              "      <td>0</td>\n",
              "      <td>...</td>\n",
              "      <td>0</td>\n",
              "      <td>0</td>\n",
              "      <td>0</td>\n",
              "      <td>0</td>\n",
              "      <td>0</td>\n",
              "      <td>0</td>\n",
              "      <td>0</td>\n",
              "      <td>0</td>\n",
              "      <td>0</td>\n",
              "      <td>0</td>\n",
              "    </tr>\n",
              "    <tr>\n",
              "      <th>2</th>\n",
              "      <td>0</td>\n",
              "      <td>0</td>\n",
              "      <td>0</td>\n",
              "      <td>0</td>\n",
              "      <td>0</td>\n",
              "      <td>0</td>\n",
              "      <td>0</td>\n",
              "      <td>0</td>\n",
              "      <td>0</td>\n",
              "      <td>0</td>\n",
              "      <td>...</td>\n",
              "      <td>0</td>\n",
              "      <td>0</td>\n",
              "      <td>0</td>\n",
              "      <td>0</td>\n",
              "      <td>0</td>\n",
              "      <td>0</td>\n",
              "      <td>0</td>\n",
              "      <td>0</td>\n",
              "      <td>0</td>\n",
              "      <td>0</td>\n",
              "    </tr>\n",
              "    <tr>\n",
              "      <th>3</th>\n",
              "      <td>0</td>\n",
              "      <td>0</td>\n",
              "      <td>0</td>\n",
              "      <td>0</td>\n",
              "      <td>0</td>\n",
              "      <td>0</td>\n",
              "      <td>0</td>\n",
              "      <td>0</td>\n",
              "      <td>0</td>\n",
              "      <td>0</td>\n",
              "      <td>...</td>\n",
              "      <td>0</td>\n",
              "      <td>0</td>\n",
              "      <td>0</td>\n",
              "      <td>0</td>\n",
              "      <td>0</td>\n",
              "      <td>0</td>\n",
              "      <td>0</td>\n",
              "      <td>0</td>\n",
              "      <td>0</td>\n",
              "      <td>0</td>\n",
              "    </tr>\n",
              "    <tr>\n",
              "      <th>4</th>\n",
              "      <td>0</td>\n",
              "      <td>1</td>\n",
              "      <td>0</td>\n",
              "      <td>0</td>\n",
              "      <td>0</td>\n",
              "      <td>0</td>\n",
              "      <td>0</td>\n",
              "      <td>0</td>\n",
              "      <td>0</td>\n",
              "      <td>0</td>\n",
              "      <td>...</td>\n",
              "      <td>0</td>\n",
              "      <td>0</td>\n",
              "      <td>0</td>\n",
              "      <td>0</td>\n",
              "      <td>0</td>\n",
              "      <td>0</td>\n",
              "      <td>0</td>\n",
              "      <td>0</td>\n",
              "      <td>0</td>\n",
              "      <td>0</td>\n",
              "    </tr>\n",
              "  </tbody>\n",
              "</table>\n",
              "<p>5 rows × 132249 columns</p>\n",
              "</div>"
            ],
            "text/plain": [
              "   0_\"  0_#  0_$  0_'sue  0_'use  0_(  0_.  0_/  0_;  0_AnsiPainter  ...    \\\n",
              "0    0    0    0       0       0    0    0    1    0              0  ...     \n",
              "1    0    1    0       0       0    0    0    0    0              0  ...     \n",
              "2    0    0    0       0       0    0    0    0    0              0  ...     \n",
              "3    0    0    0       0       0    0    0    0    0              0  ...     \n",
              "4    0    1    0       0       0    0    0    0    0              0  ...     \n",
              "\n",
              "   396_return  396_}  397_;  397_false  397_target  397_}  398_)  398_}  \\\n",
              "0           0      0      0          0           0      0      0      0   \n",
              "1           0      0      0          0           0      0      0      0   \n",
              "2           0      0      0          0           0      0      0      0   \n",
              "3           0      0      0          0           0      0      0      0   \n",
              "4           0      0      0          0           0      0      0      0   \n",
              "\n",
              "   399_;  399_}  \n",
              "0      0      0  \n",
              "1      0      0  \n",
              "2      0      0  \n",
              "3      0      0  \n",
              "4      0      0  \n",
              "\n",
              "[5 rows x 132249 columns]"
            ]
          },
          "metadata": {
            "tags": []
          },
          "execution_count": 113
        }
      ]
    },
    {
      "metadata": {
        "id": "AmiqVFHYhNBE",
        "colab_type": "code",
        "colab": {}
      },
      "cell_type": "code",
      "source": [
        "from sklearn.model_selection import train_test_split"
      ],
      "execution_count": 0,
      "outputs": []
    },
    {
      "metadata": {
        "id": "mXBSuD7oh2sV",
        "colab_type": "code",
        "colab": {}
      },
      "cell_type": "code",
      "source": [
        "X_train, X_test, y_train, y_test = train_test_split(modified_df, new_t['language'], test_size=0.33, random_state=42)"
      ],
      "execution_count": 0,
      "outputs": []
    },
    {
      "metadata": {
        "id": "s2Pwh4Xlib_i",
        "colab_type": "code",
        "colab": {}
      },
      "cell_type": "code",
      "source": [
        "#@title I used Decision Tree Classifier as a baseline \n",
        "from sklearn.tree import DecisionTreeClassifier"
      ],
      "execution_count": 0,
      "outputs": []
    },
    {
      "metadata": {
        "id": "bkF-1GYDidOX",
        "colab_type": "code",
        "colab": {}
      },
      "cell_type": "code",
      "source": [
        "#@title criterion you can choose 'entrpoy' or 'gini' and i you have to experiment \n",
        "dt=DecisionTreeClassifier(criterion='entropy', splitter='best')"
      ],
      "execution_count": 0,
      "outputs": []
    },
    {
      "metadata": {
        "id": "fgCYbtfijNws",
        "colab_type": "code",
        "colab": {
          "base_uri": "https://localhost:8080/",
          "height": 121
        },
        "outputId": "2ea4d77e-fae1-4c64-ab3b-dcda97328a55"
      },
      "cell_type": "code",
      "source": [
        "dt.fit(X_train,y_train)"
      ],
      "execution_count": 118,
      "outputs": [
        {
          "output_type": "execute_result",
          "data": {
            "text/plain": [
              "DecisionTreeClassifier(class_weight=None, criterion='entropy', max_depth=None,\n",
              "            max_features=None, max_leaf_nodes=None,\n",
              "            min_impurity_decrease=0.0, min_impurity_split=None,\n",
              "            min_samples_leaf=1, min_samples_split=2,\n",
              "            min_weight_fraction_leaf=0.0, presort=False, random_state=None,\n",
              "            splitter='best')"
            ]
          },
          "metadata": {
            "tags": []
          },
          "execution_count": 118
        }
      ]
    },
    {
      "metadata": {
        "id": "t_RWat3GjQ8v",
        "colab_type": "code",
        "colab": {}
      },
      "cell_type": "code",
      "source": [
        "predictions = dt.predict(X_test)"
      ],
      "execution_count": 0,
      "outputs": []
    },
    {
      "metadata": {
        "id": "FKqqnpMQjUzQ",
        "colab_type": "code",
        "colab": {}
      },
      "cell_type": "code",
      "source": [
        "def matchings(pred,test):\n",
        "  \n",
        "  count = 0\n",
        "  \n",
        "  for u,v in zip(pred,test):\n",
        "    if u==v:\n",
        "      count+=1\n",
        "    else:\n",
        "      print  u,v\n",
        "  \n",
        "  print \"matched predictions {asd} out of {total} accuracy is {acc}\".format(asd=count,total=len(test),acc=((count+0.0)*100/(len(test))))\n",
        "      "
      ],
      "execution_count": 0,
      "outputs": []
    },
    {
      "metadata": {
        "id": "7mE4MBWnkuUp",
        "colab_type": "code",
        "colab": {
          "base_uri": "https://localhost:8080/",
          "height": 364
        },
        "outputId": "6d3a432a-e267-4450-b9e8-3e0046d208fa"
      },
      "cell_type": "code",
      "source": [
        "#@title I am getting above 98 accuracy for both datasets and i want to test them on further datasets too and below i printed whenever there is misclassification but mostly they are true i.e sh can be bsh or coffee script can be javascript \n",
        "matchings(predictions,y_test)"
      ],
      "execution_count": 121,
      "outputs": [
        {
          "output_type": "stream",
          "text": [
            "java sh\n",
            "js bsh\n",
            "coffee js\n",
            "sh java\n",
            "cpp js\n",
            "js cpp\n",
            "sh java\n",
            "java js\n",
            "sh bsh\n",
            "cpp java\n",
            "java cpp\n",
            "cpp js\n",
            "sh coffee\n",
            "bsh js\n",
            "coffee js\n",
            "cpp js\n",
            "sh js\n",
            "sh coffee\n",
            "js coffee\n",
            "matched predictions 1087 out of 1106 accuracy is 98.2820976492\n"
          ],
          "name": "stdout"
        }
      ]
    },
    {
      "metadata": {
        "id": "cq6tTssvp6PP",
        "colab_type": "code",
        "colab": {}
      },
      "cell_type": "code",
      "source": [
        ""
      ],
      "execution_count": 0,
      "outputs": []
    }
  ]
}