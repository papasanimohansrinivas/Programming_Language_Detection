{
  "nbformat": 4,
  "nbformat_minor": 0,
  "metadata": {
    "colab": {
      "name": "Language.ipynb",
      "version": "0.3.2",
      "views": {},
      "default_view": {},
      "provenance": [],
      "collapsed_sections": []
    },
    "kernelspec": {
      "name": "python2",
      "display_name": "Python 2"
    },
    "accelerator": "GPU"
  },
  "cells": [
    {
      "metadata": {
        "id": "C6Yr7seD-572",
        "colab_type": "code",
        "colab": {
          "autoexec": {
            "startup": false,
            "wait_interval": 0
          },
          "base_uri": "https://localhost:8080/",
          "height": 104
        },
        "outputId": "ee052b53-6f0b-4cfa-a58f-062bc733a877",
        "executionInfo": {
          "status": "ok",
          "timestamp": 1525540960668,
          "user_tz": -330,
          "elapsed": 6022,
          "user": {
            "displayName": "Papasani Mohansrinivas",
            "photoUrl": "https://lh3.googleusercontent.com/a/default-user=s128",
            "userId": "115424324096599609575"
          }
        }
      },
      "cell_type": "code",
      "source": [
        "!git clone https://github.com/papasanimohansrinivas/Programming_Language_Detection.git master"
      ],
      "execution_count": 1,
      "outputs": [
        {
          "output_type": "stream",
          "text": [
            "Cloning into 'master'...\n",
            "remote: Counting objects: 7, done.\u001b[K\n",
            "remote: Compressing objects: 100% (7/7), done.\u001b[K\n",
            "remote: Total 7 (delta 1), reused 4 (delta 0), pack-reused 0\u001b[K\n",
            "Unpacking objects: 100% (7/7), done.\n"
          ],
          "name": "stdout"
        }
      ]
    },
    {
      "metadata": {
        "id": "UhIc5sHm_QGw",
        "colab_type": "code",
        "colab": {
          "autoexec": {
            "startup": false,
            "wait_interval": 0
          }
        }
      },
      "cell_type": "code",
      "source": [
        "import pandas"
      ],
      "execution_count": 0,
      "outputs": []
    },
    {
      "metadata": {
        "id": "QG8nGDqoAhVo",
        "colab_type": "code",
        "colab": {
          "autoexec": {
            "startup": false,
            "wait_interval": 0
          },
          "base_uri": "https://localhost:8080/",
          "height": 34
        },
        "outputId": "05fa06da-8828-4add-8573-acdac5d9a1a4",
        "executionInfo": {
          "status": "ok",
          "timestamp": 1525540970513,
          "user_tz": -330,
          "elapsed": 1836,
          "user": {
            "displayName": "Papasani Mohansrinivas",
            "photoUrl": "https://lh3.googleusercontent.com/a/default-user=s128",
            "userId": "115424324096599609575"
          }
        }
      },
      "cell_type": "code",
      "source": [
        "ls"
      ],
      "execution_count": 5,
      "outputs": [
        {
          "output_type": "stream",
          "text": [
            "Programming_Data.csv  walkthedir.py\r\n"
          ],
          "name": "stdout"
        }
      ]
    },
    {
      "metadata": {
        "id": "35vqMq5YAaA8",
        "colab_type": "code",
        "colab": {
          "autoexec": {
            "startup": false,
            "wait_interval": 0
          },
          "base_uri": "https://localhost:8080/",
          "height": 34
        },
        "outputId": "2a4689f2-f9b9-4f7b-c8bb-565fd2f64289",
        "executionInfo": {
          "status": "ok",
          "timestamp": 1525540966556,
          "user_tz": -330,
          "elapsed": 1109,
          "user": {
            "displayName": "Papasani Mohansrinivas",
            "photoUrl": "https://lh3.googleusercontent.com/a/default-user=s128",
            "userId": "115424324096599609575"
          }
        }
      },
      "cell_type": "code",
      "source": [
        "cd master"
      ],
      "execution_count": 4,
      "outputs": [
        {
          "output_type": "stream",
          "text": [
            "/content/master\n"
          ],
          "name": "stdout"
        }
      ]
    },
    {
      "metadata": {
        "id": "1dtqolkdAWSi",
        "colab_type": "code",
        "colab": {
          "autoexec": {
            "startup": false,
            "wait_interval": 0
          }
        }
      },
      "cell_type": "code",
      "source": [
        "t=pandas.read_csv(\"Programming_Data.csv\",header=None)"
      ],
      "execution_count": 0,
      "outputs": []
    },
    {
      "metadata": {
        "id": "--qYyE6NAkaf",
        "colab_type": "code",
        "colab": {
          "autoexec": {
            "startup": false,
            "wait_interval": 0
          }
        }
      },
      "cell_type": "code",
      "source": [
        "lst=list(t[1])"
      ],
      "execution_count": 0,
      "outputs": []
    },
    {
      "metadata": {
        "id": "Io23xgu2A2E_",
        "colab_type": "code",
        "colab": {
          "autoexec": {
            "startup": false,
            "wait_interval": 0
          },
          "base_uri": "https://localhost:8080/",
          "height": 34
        },
        "outputId": "051b05c3-2e9b-4fe3-cb4c-5fa6375ecef2",
        "executionInfo": {
          "status": "ok",
          "timestamp": 1525541008540,
          "user_tz": -330,
          "elapsed": 2254,
          "user": {
            "displayName": "Papasani Mohansrinivas",
            "photoUrl": "https://lh3.googleusercontent.com/a/default-user=s128",
            "userId": "115424324096599609575"
          }
        }
      },
      "cell_type": "code",
      "source": [
        "print lst.count('py'),lst.count('java'),lst.count('js'),lst.count('sh'),lst.count('coffee'),lst.count('cpp')"
      ],
      "execution_count": 11,
      "outputs": [
        {
          "output_type": "stream",
          "text": [
            "4394 1325 871 206 63 568\n"
          ],
          "name": "stdout"
        }
      ]
    },
    {
      "metadata": {
        "id": "RZMMxyJ4CE2k",
        "colab_type": "code",
        "colab": {
          "autoexec": {
            "startup": false,
            "wait_interval": 0
          }
        }
      },
      "cell_type": "code",
      "source": [
        "t.columns = ['code','language']"
      ],
      "execution_count": 0,
      "outputs": []
    },
    {
      "metadata": {
        "id": "CiaUzqoqVw4N",
        "colab_type": "code",
        "colab": {
          "autoexec": {
            "startup": false,
            "wait_interval": 0
          }
        }
      },
      "cell_type": "code",
      "source": [
        "def split_the_code(column):\n",
        "  \n",
        "  if type(column)==str:\n",
        "    return column.split(\" \")\n",
        "  return column\n",
        "  "
      ],
      "execution_count": 0,
      "outputs": []
    },
    {
      "metadata": {
        "id": "AbeRGWDLH2aL",
        "colab_type": "code",
        "colab": {
          "autoexec": {
            "startup": false,
            "wait_interval": 0
          }
        }
      },
      "cell_type": "code",
      "source": [
        "t['code']=t['code'].apply(split_the_code)"
      ],
      "execution_count": 0,
      "outputs": []
    },
    {
      "metadata": {
        "id": "tm7xRy7tKtAn",
        "colab_type": "code",
        "colab": {
          "autoexec": {
            "startup": false,
            "wait_interval": 0
          },
          "base_uri": "https://localhost:8080/",
          "height": 1092
        },
        "outputId": "5e9bb736-e722-45c7-d631-8a88c3e70979",
        "executionInfo": {
          "status": "ok",
          "timestamp": 1525544825619,
          "user_tz": -330,
          "elapsed": 879,
          "user": {
            "displayName": "Papasani Mohansrinivas",
            "photoUrl": "https://lh3.googleusercontent.com/a/default-user=s128",
            "userId": "115424324096599609575"
          }
        }
      },
      "cell_type": "code",
      "source": [
        "t['code']"
      ],
      "execution_count": 21,
      "outputs": [
        {
          "output_type": "execute_result",
          "data": {
            "text/plain": [
              "0       [#!/usr/bin/env, python\\r\\n#\\r\\n#, Hi, There!\\...\n",
              "1       [def, list_trees(repo='KNN-implementation',pas...\n",
              "2       [import, org.apache.jmeter.engine.StandardJMet...\n",
              "3       [def, list_commits(owner,repo):\\r\\n\\t\\r\\n\\tlis...\n",
              "4       [def, list_hooks(owner='papasanimohansrinivas'...\n",
              "5                                    [import, subprocess]\n",
              "6       [#, n=input()\\r\\nn, =, 1\\r\\n#, a, =, map(int,r...\n",
              "7                                                     NaN\n",
              "8       [#!/bin/sh\\r\\n\\r\\n##, , , Licensed, to, the, A...\n",
              "9       [#!/bin/sh\\r\\n\\r\\n##, , , Licensed, to, the, A...\n",
              "10      [#!, /bin/sh\\r\\n\\r\\n##, , , Licensed, to, the,...\n",
              "11      [#!/bin/sh\\r\\n\\r\\n##, , , Licensed, to, the, A...\n",
              "12      [#!/bin/sh\\r\\n\\r\\n##, , , Licensed, to, the, A...\n",
              "13      [#!/bin/sh\\r\\n\\r\\n##, , , Licensed, to, the, A...\n",
              "14      [/*, The, MIT, License\\r\\n\\r\\n, Copyright, (c)...\n",
              "15      [/*\\r\\n, , , Licensed, to, the, Apache, Softwa...\n",
              "16      [/**\\r\\n, *, @license, jahashtable,, a, JavaSc...\n",
              "17      [/*!, jQuery, UI, -, v1.11.4, -, 2015-05-03\\r\\...\n",
              "18      [/*!\\r\\n, *, jQuery, Cookie, Plugin, v1.4.1\\r\\...\n",
              "19      [/*, Flot, plugin, for, stacking, data, sets, ...\n",
              "20      [(function(k){var, a=new, Hashtable();var, f=[...\n",
              "21      [!function(a){\"function\"==typeof, define&&defi...\n",
              "22      [/*!\\r\\n, *, Bootstrap, v3.3.4, (http://getboo...\n",
              "23      [//, Copyright, 2006, Google, Inc.\\r\\n//\\r\\n//...\n",
              "24      [if(!document.createElement(\"canvas\").getConte...\n",
              "25      [/*, Plugin, for, jQuery, for, working, with, ...\n",
              "26      [/*, Flot, plugin, for, drawing, all, elements...\n",
              "27      [/*, Flot, plugin, for, plotting, textual, dat...\n",
              "28      [/*, Flot, plugin, for, showing, crosshairs, w...\n",
              "29      [/*, Flot, plugin, for, plotting, error, bars....\n",
              "                              ...                        \n",
              "7432    [package, com.ibm.gtd.integration.integrationt...\n",
              "7433    [package, com.ibm.gtd.integration.integrationt...\n",
              "7434    [package, com.ibm.gtd.integration.integrationt...\n",
              "7435    [package, com.ibm.gtd.integration.integrationt...\n",
              "7436    [package, com.ibm.gtd.integration.integrationt...\n",
              "7437    [package, com.ibm.gtd.integration.integrationt...\n",
              "7438    [package, com.ibm.gtd.integration.integrationt...\n",
              "7439    [package, com.ibm.gtd.integration.integrationt...\n",
              "7440    [package, com.ibm.gtd.integration.integrationt...\n",
              "7441    [package, com.ibm.gtd.integration.integrationt...\n",
              "7442    [package, com.ibm.gtd.integration.integrationt...\n",
              "7443    [package, com.ibm.gtd.integration.integrationt...\n",
              "7444    [package, com.ibm.gtd.integration.integrationt...\n",
              "7445    [package, com.ibm.gtd.integration.integrationt...\n",
              "7446    [package, com.ibm.gtd.integration.integrationt...\n",
              "7447    [package, com.ibm.gtd.integration.integrationt...\n",
              "7448    [package, com.ibm.gtd.integration.integrationt...\n",
              "7449    [package, com.ibm.gtd.integration.integrationt...\n",
              "7450    [package, com.ibm.gtd.integration.integrationt...\n",
              "7451    [package, com.ibm.gtd.integration.integrationt...\n",
              "7452    [package, com.ibm.gtd.integration.integrationt...\n",
              "7453    [package, com.ibm.gtd.integration.integrationt...\n",
              "7454    [package, com.ibm.gtd.integration.integrationt...\n",
              "7455    [package, com.ibm.gtd.integration.integrationt...\n",
              "7456    [package, com.ibm.gtd.integration.integrationt...\n",
              "7457    [package, com.ibm.gtd.integration.integrationt...\n",
              "7458    [import, requests\\r\\nimport, json\\r\\nimport, s...\n",
              "7459    [import, requests\\r\\nimport, json\\r\\nimport, s...\n",
              "7460    [import, requests\\r\\nimport, json\\r\\nimport, s...\n",
              "7461    [import, requests\\r\\nimport, json\\r\\nimport, s...\n",
              "Name: code, Length: 7462, dtype: object"
            ]
          },
          "metadata": {
            "tags": []
          },
          "execution_count": 21
        }
      ]
    },
    {
      "metadata": {
        "id": "2-EjGefBWC6_",
        "colab_type": "code",
        "colab": {
          "autoexec": {
            "startup": false,
            "wait_interval": 0
          }
        }
      },
      "cell_type": "code",
      "source": [
        ""
      ],
      "execution_count": 0,
      "outputs": []
    }
  ]
}