{
  "nbformat": 4,
  "nbformat_minor": 0,
  "metadata": {
    "colab": {
      "name": "Programming_Language_Detection.ipynb",
      "version": "0.3.2",
      "provenance": [],
      "collapsed_sections": []
    },
    "kernelspec": {
      "name": "python2",
      "display_name": "Python 2"
    },
    "accelerator": "GPU"
  },
  "cells": [
    {
      "cell_type": "markdown",
      "metadata": {
        "id": "view-in-github",
        "colab_type": "text"
      },
      "source": [
        "[View in Colaboratory](https://colab.research.google.com/github/papasanimohansrinivas/Programming_Language_Detection/blob/added_further_set/Programming_Language_Detection.ipynb)"
      ]
    },
    {
      "metadata": {
        "id": "C6Yr7seD-572",
        "colab_type": "code",
        "colab": {
          "base_uri": "https://localhost:8080/",
          "height": 104
        },
        "outputId": "15c71184-741f-4f40-f4e0-2946b89fb80d"
      },
      "cell_type": "code",
      "source": [
        "!git clone https://github.com/papasanimohansrinivas/Programming_Language_Detection.git master"
      ],
      "execution_count": 3,
      "outputs": [
        {
          "output_type": "stream",
          "text": [
            "Cloning into 'master'...\n",
            "remote: Counting objects: 24, done.\u001b[K\n",
            "remote: Compressing objects: 100% (21/21), done.\u001b[K\n",
            "remote: Total 24 (delta 6), reused 15 (delta 1), pack-reused 0\u001b[K\n",
            "Unpacking objects: 100% (24/24), done.\n"
          ],
          "name": "stdout"
        }
      ]
    },
    {
      "metadata": {
        "id": "UhIc5sHm_QGw",
        "colab_type": "code",
        "colab": {}
      },
      "cell_type": "code",
      "source": [
        "import pandas"
      ],
      "execution_count": 0,
      "outputs": []
    },
    {
      "metadata": {
        "id": "QG8nGDqoAhVo",
        "colab_type": "code",
        "colab": {
          "base_uri": "https://localhost:8080/",
          "height": 35
        },
        "outputId": "e6631b6b-488b-4e3d-9071-97dd7a857085"
      },
      "cell_type": "code",
      "source": [
        "ls"
      ],
      "execution_count": 9,
      "outputs": [
        {
          "output_type": "stream",
          "text": [
            "index.html  Programming_Data.csv  walkthedir.py\r\n"
          ],
          "name": "stdout"
        }
      ]
    },
    {
      "metadata": {
        "id": "35vqMq5YAaA8",
        "colab_type": "code",
        "colab": {
          "base_uri": "https://localhost:8080/",
          "height": 35
        },
        "outputId": "83317cb0-ef75-497f-cc5d-e84cc0e3f2b9"
      },
      "cell_type": "code",
      "source": [
        "cd master"
      ],
      "execution_count": 8,
      "outputs": [
        {
          "output_type": "stream",
          "text": [
            "/content/master\n"
          ],
          "name": "stdout"
        }
      ]
    },
    {
      "metadata": {
        "id": "maDOt3PVzgFa",
        "colab_type": "text"
      },
      "cell_type": "markdown",
      "source": [
        "#### If you dont use header = None option initially loading into dataframe is going to be a headache "
      ]
    },
    {
      "metadata": {
        "id": "1dtqolkdAWSi",
        "colab_type": "code",
        "colab": {}
      },
      "cell_type": "code",
      "source": [
        "t=pandas.read_csv(\"Programming_Data.csv\",header=None)"
      ],
      "execution_count": 0,
      "outputs": []
    },
    {
      "metadata": {
        "id": "LBvTvYANmFcT",
        "colab_type": "code",
        "colab": {}
      },
      "cell_type": "code",
      "source": [
        "t = t.sample(frac=1).reset_index(drop=True)"
      ],
      "execution_count": 0,
      "outputs": []
    },
    {
      "metadata": {
        "id": "ow4afol-dp23",
        "colab_type": "code",
        "colab": {}
      },
      "cell_type": "code",
      "source": [
        "from collections import Counter"
      ],
      "execution_count": 0,
      "outputs": []
    },
    {
      "metadata": {
        "id": "Io23xgu2A2E_",
        "colab_type": "code",
        "colab": {
          "base_uri": "https://localhost:8080/",
          "height": 156
        },
        "outputId": "ed130110-6591-4d79-c32c-f2dbef6309c3"
      },
      "cell_type": "code",
      "source": [
        "Counter(t['language'])"
      ],
      "execution_count": 19,
      "outputs": [
        {
          "output_type": "execute_result",
          "data": {
            "text/plain": [
              "Counter({'bsh': 26,\n",
              "         'coffee': 63,\n",
              "         'cpp': 568,\n",
              "         'java': 1325,\n",
              "         'js': 871,\n",
              "         'npy': 9,\n",
              "         'py': 4394,\n",
              "         'sh': 206})"
            ]
          },
          "metadata": {
            "tags": []
          },
          "execution_count": 19
        }
      ]
    },
    {
      "metadata": {
        "id": "RZMMxyJ4CE2k",
        "colab_type": "code",
        "colab": {}
      },
      "cell_type": "code",
      "source": [
        "t.columns = ['code','language']"
      ],
      "execution_count": 0,
      "outputs": []
    },
    {
      "metadata": {
        "id": "NdftlNrHymlA",
        "colab_type": "text"
      },
      "cell_type": "markdown",
      "source": [
        "### Drop the nan rows from code columns \n",
        "\n",
        "#### reason i got nan into the csv is even mysterious to me ?\n"
      ]
    },
    {
      "metadata": {
        "id": "F4PUYdLz2pk1",
        "colab_type": "code",
        "colab": {}
      },
      "cell_type": "code",
      "source": [
        "import numpy as np"
      ],
      "execution_count": 0,
      "outputs": []
    },
    {
      "metadata": {
        "id": "QM1FYg3XyvrX",
        "colab_type": "code",
        "colab": {}
      },
      "cell_type": "code",
      "source": [
        "t=t[t.code!=np.nan]"
      ],
      "execution_count": 0,
      "outputs": []
    },
    {
      "metadata": {
        "id": "CiaUzqoqVw4N",
        "colab_type": "code",
        "colab": {}
      },
      "cell_type": "code",
      "source": [
        "def tokenize_the_code(column):\n",
        "  \n",
        "  import re\n",
        "\n",
        "  pattern = r\"\"\"[\\w']+|[\"\"!\"#$%&'()*+,-./:;<=>?@[\\]^_`{|}~\"\"\\\\]\"\"\"\n",
        "  \n",
        "  try:\n",
        "    \n",
        "    return re.findall(pattern,column)\n",
        "  \n",
        "  except TypeError:\n",
        "    \n",
        "    return \"\"\n",
        "\n",
        "  "
      ],
      "execution_count": 0,
      "outputs": []
    },
    {
      "metadata": {
        "id": "AbeRGWDLH2aL",
        "colab_type": "code",
        "colab": {}
      },
      "cell_type": "code",
      "source": [
        "t['code']=t['code'].apply(tokenize_the_code)"
      ],
      "execution_count": 0,
      "outputs": []
    },
    {
      "metadata": {
        "id": "tm7xRy7tKtAn",
        "colab_type": "code",
        "colab": {}
      },
      "cell_type": "code",
      "source": [
        "t=t[t['code']!=\"\"]"
      ],
      "execution_count": 0,
      "outputs": []
    },
    {
      "metadata": {
        "id": "iqK5ZYgX6ETQ",
        "colab_type": "text"
      },
      "cell_type": "markdown",
      "source": [
        "### know the length of the programs by ploting the length of the programs"
      ]
    },
    {
      "metadata": {
        "id": "K0ulqDRO6CuE",
        "colab_type": "code",
        "colab": {}
      },
      "cell_type": "code",
      "source": [
        "program_lengths = pandas.DataFrame(map(len,t['code']))"
      ],
      "execution_count": 0,
      "outputs": []
    },
    {
      "metadata": {
        "id": "2-EjGefBWC6_",
        "colab_type": "code",
        "colab": {
          "base_uri": "https://localhost:8080/",
          "height": 52
        },
        "outputId": "a336f83a-96e4-47f3-bf43-41f4128b4cf0"
      },
      "cell_type": "code",
      "source": [
        "program_lengths.mean()"
      ],
      "execution_count": 26,
      "outputs": [
        {
          "output_type": "execute_result",
          "data": {
            "text/plain": [
              "0    2323.329859\n",
              "dtype: float64"
            ]
          },
          "metadata": {
            "tags": []
          },
          "execution_count": 26
        }
      ]
    },
    {
      "metadata": {
        "id": "zcoCJKux3rIH",
        "colab_type": "code",
        "colab": {
          "base_uri": "https://localhost:8080/",
          "height": 365
        },
        "outputId": "6d7e251b-5179-417c-c311-ee05ade9134f"
      },
      "cell_type": "code",
      "source": [
        "program_lengths.plot()"
      ],
      "execution_count": 27,
      "outputs": [
        {
          "output_type": "execute_result",
          "data": {
            "text/plain": [
              "<matplotlib.axes._subplots.AxesSubplot at 0x7fb1ed6cc0d0>"
            ]
          },
          "metadata": {
            "tags": []
          },
          "execution_count": 27
        },
        {
          "output_type": "display_data",
          "data": {
            "image/png": "[encoded data removed]",
            "text/plain": [
              "<matplotlib.figure.Figure at 0x7fb20168aa50>"
            ]
          },
          "metadata": {
            "tags": []
          }
        }
      ]
    },
    {
      "metadata": {
        "id": "PMZ7QUNhDa71",
        "colab_type": "code",
        "colab": {}
      },
      "cell_type": "code",
      "source": [
        "new_t=t[t['code'].map(len)<=500]"
      ],
      "execution_count": 0,
      "outputs": []
    },
    {
      "metadata": {
        "id": "qzz_QsgXn9sA",
        "colab_type": "code",
        "colab": {
          "base_uri": "https://localhost:8080/",
          "height": 35
        },
        "outputId": "53e17dd3-f2c0-43ba-c2b5-248ad63fb3de"
      },
      "cell_type": "code",
      "source": [
        "new_t.columns"
      ],
      "execution_count": 36,
      "outputs": [
        {
          "output_type": "execute_result",
          "data": {
            "text/plain": [
              "Index([u'code', u'language'], dtype='object')"
            ]
          },
          "metadata": {
            "tags": []
          },
          "execution_count": 36
        }
      ]
    },
    {
      "metadata": {
        "id": "hzlscDmC7Ce_",
        "colab_type": "code",
        "colab": {}
      },
      "cell_type": "code",
      "source": [
        "df=pandas.DataFrame(map(np.array,new_t['code']))"
      ],
      "execution_count": 0,
      "outputs": []
    },
    {
      "metadata": {
        "id": "9sVnry9RGuKm",
        "colab_type": "code",
        "colab": {}
      },
      "cell_type": "code",
      "source": [
        "from collections import Counter"
      ],
      "execution_count": 0,
      "outputs": []
    },
    {
      "metadata": {
        "id": "qIeflRstIM5v",
        "colab_type": "code",
        "colab": {
          "base_uri": "https://localhost:8080/",
          "height": 251
        },
        "outputId": "b8e876d8-7554-44df-9479-91a43406862d"
      },
      "cell_type": "code",
      "source": [
        "df.head()"
      ],
      "execution_count": 38,
      "outputs": [
        {
          "output_type": "execute_result",
          "data": {
            "text/html": [
              "<div>\n",
              "<style scoped>\n",
              "    .dataframe tbody tr th:only-of-type {\n",
              "        vertical-align: middle;\n",
              "    }\n",
              "\n",
              "    .dataframe tbody tr th {\n",
              "        vertical-align: top;\n",
              "    }\n",
              "\n",
              "    .dataframe thead th {\n",
              "        text-align: right;\n",
              "    }\n",
              "</style>\n",
              "<table border=\"1\" class=\"dataframe\">\n",
              "  <thead>\n",
              "    <tr style=\"text-align: right;\">\n",
              "      <th></th>\n",
              "      <th>0</th>\n",
              "      <th>1</th>\n",
              "      <th>2</th>\n",
              "      <th>3</th>\n",
              "      <th>4</th>\n",
              "      <th>5</th>\n",
              "      <th>6</th>\n",
              "      <th>7</th>\n",
              "      <th>8</th>\n",
              "      <th>9</th>\n",
              "      <th>...</th>\n",
              "      <th>490</th>\n",
              "      <th>491</th>\n",
              "      <th>492</th>\n",
              "      <th>493</th>\n",
              "      <th>494</th>\n",
              "      <th>495</th>\n",
              "      <th>496</th>\n",
              "      <th>497</th>\n",
              "      <th>498</th>\n",
              "      <th>499</th>\n",
              "    </tr>\n",
              "  </thead>\n",
              "  <tbody>\n",
              "    <tr>\n",
              "      <th>0</th>\n",
              "      <td>/</td>\n",
              "      <td>*</td>\n",
              "      <td>*</td>\n",
              "      <td>Licensed</td>\n",
              "      <td>to</td>\n",
              "      <td>the</td>\n",
              "      <td>Apache</td>\n",
              "      <td>Software</td>\n",
              "      <td>Foundation</td>\n",
              "      <td>(</td>\n",
              "      <td>...</td>\n",
              "      <td>None</td>\n",
              "      <td>None</td>\n",
              "      <td>None</td>\n",
              "      <td>None</td>\n",
              "      <td>None</td>\n",
              "      <td>None</td>\n",
              "      <td>None</td>\n",
              "      <td>None</td>\n",
              "      <td>None</td>\n",
              "      <td>None</td>\n",
              "    </tr>\n",
              "    <tr>\n",
              "      <th>1</th>\n",
              "      <td>#</td>\n",
              "      <td>Scan</td>\n",
              "      <td>an</td>\n",
              "      <td>Apple</td>\n",
              "      <td>header</td>\n",
              "      <td>file</td>\n",
              "      <td>,</td>\n",
              "      <td>generating</td>\n",
              "      <td>a</td>\n",
              "      <td>Python</td>\n",
              "      <td>...</td>\n",
              "      <td>None</td>\n",
              "      <td>None</td>\n",
              "      <td>None</td>\n",
              "      <td>None</td>\n",
              "      <td>None</td>\n",
              "      <td>None</td>\n",
              "      <td>None</td>\n",
              "      <td>None</td>\n",
              "      <td>None</td>\n",
              "      <td>None</td>\n",
              "    </tr>\n",
              "    <tr>\n",
              "      <th>2</th>\n",
              "      <td>\"</td>\n",
              "      <td>\"</td>\n",
              "      <td>\"</td>\n",
              "      <td>Fix</td>\n",
              "      <td>incompatible</td>\n",
              "      <td>imports</td>\n",
              "      <td>and</td>\n",
              "      <td>module</td>\n",
              "      <td>references</td>\n",
              "      <td>that</td>\n",
              "      <td>...</td>\n",
              "      <td>None</td>\n",
              "      <td>None</td>\n",
              "      <td>None</td>\n",
              "      <td>None</td>\n",
              "      <td>None</td>\n",
              "      <td>None</td>\n",
              "      <td>None</td>\n",
              "      <td>None</td>\n",
              "      <td>None</td>\n",
              "      <td>None</td>\n",
              "    </tr>\n",
              "    <tr>\n",
              "      <th>3</th>\n",
              "      <td>\"</td>\n",
              "      <td>\"</td>\n",
              "      <td>\"</td>\n",
              "      <td>Tests</td>\n",
              "      <td>for</td>\n",
              "      <td>distutils</td>\n",
              "      <td>.</td>\n",
              "      <td>command</td>\n",
              "      <td>.</td>\n",
              "      <td>bdist_msi</td>\n",
              "      <td>...</td>\n",
              "      <td>None</td>\n",
              "      <td>None</td>\n",
              "      <td>None</td>\n",
              "      <td>None</td>\n",
              "      <td>None</td>\n",
              "      <td>None</td>\n",
              "      <td>None</td>\n",
              "      <td>None</td>\n",
              "      <td>None</td>\n",
              "      <td>None</td>\n",
              "    </tr>\n",
              "    <tr>\n",
              "      <th>4</th>\n",
              "      <td>from</td>\n",
              "      <td>.</td>\n",
              "      <td>backend</td>\n",
              "      <td>import</td>\n",
              "      <td>FunctionBackend</td>\n",
              "      <td>class</td>\n",
              "      <td>THNNFunctionBackend</td>\n",
              "      <td>(</td>\n",
              "      <td>FunctionBackend</td>\n",
              "      <td>)</td>\n",
              "      <td>...</td>\n",
              "      <td>None</td>\n",
              "      <td>None</td>\n",
              "      <td>None</td>\n",
              "      <td>None</td>\n",
              "      <td>None</td>\n",
              "      <td>None</td>\n",
              "      <td>None</td>\n",
              "      <td>None</td>\n",
              "      <td>None</td>\n",
              "      <td>None</td>\n",
              "    </tr>\n",
              "  </tbody>\n",
              "</table>\n",
              "<p>5 rows × 500 columns</p>\n",
              "</div>"
            ],
            "text/plain": [
              "    0     1        2         3                4          5    \\\n",
              "0     /     *        *  Licensed               to        the   \n",
              "1     #  Scan       an     Apple           header       file   \n",
              "2     \"     \"        \"       Fix     incompatible    imports   \n",
              "3     \"     \"        \"     Tests              for  distutils   \n",
              "4  from     .  backend    import  FunctionBackend      class   \n",
              "\n",
              "                   6           7                8          9    ...    490  \\\n",
              "0               Apache    Software       Foundation          (  ...   None   \n",
              "1                    ,  generating                a     Python  ...   None   \n",
              "2                  and      module       references       that  ...   None   \n",
              "3                    .     command                .  bdist_msi  ...   None   \n",
              "4  THNNFunctionBackend           (  FunctionBackend          )  ...   None   \n",
              "\n",
              "    491   492   493   494   495   496   497   498   499  \n",
              "0  None  None  None  None  None  None  None  None  None  \n",
              "1  None  None  None  None  None  None  None  None  None  \n",
              "2  None  None  None  None  None  None  None  None  None  \n",
              "3  None  None  None  None  None  None  None  None  None  \n",
              "4  None  None  None  None  None  None  None  None  None  \n",
              "\n",
              "[5 rows x 500 columns]"
            ]
          },
          "metadata": {
            "tags": []
          },
          "execution_count": 38
        }
      ]
    },
    {
      "metadata": {
        "id": "Yb0M0bPEgIGn",
        "colab_type": "code",
        "colab": {}
      },
      "cell_type": "code",
      "source": [
        "modified_df = pandas.get_dummies(df, columns=df.columns)"
      ],
      "execution_count": 0,
      "outputs": []
    },
    {
      "metadata": {
        "id": "J_7mIBwQgz9v",
        "colab_type": "code",
        "colab": {
          "base_uri": "https://localhost:8080/",
          "height": 251
        },
        "outputId": "44530b7f-a72c-48c2-f5c1-0a5d6aecf97a"
      },
      "cell_type": "code",
      "source": [
        "modified_df.head()"
      ],
      "execution_count": 40,
      "outputs": [
        {
          "output_type": "execute_result",
          "data": {
            "text/html": [
              "<div>\n",
              "<style scoped>\n",
              "    .dataframe tbody tr th:only-of-type {\n",
              "        vertical-align: middle;\n",
              "    }\n",
              "\n",
              "    .dataframe tbody tr th {\n",
              "        vertical-align: top;\n",
              "    }\n",
              "\n",
              "    .dataframe thead th {\n",
              "        text-align: right;\n",
              "    }\n",
              "</style>\n",
              "<table border=\"1\" class=\"dataframe\">\n",
              "  <thead>\n",
              "    <tr style=\"text-align: right;\">\n",
              "      <th></th>\n",
              "      <th>0_\"</th>\n",
              "      <th>0_#</th>\n",
              "      <th>0_$</th>\n",
              "      <th>0_'''Mock</th>\n",
              "      <th>0_'''Test</th>\n",
              "      <th>0_'''Unittests</th>\n",
              "      <th>0_'''idlelib</th>\n",
              "      <th>0_'Provides</th>\n",
              "      <th>0_'use</th>\n",
              "      <th>0_(</th>\n",
              "      <th>...</th>\n",
              "      <th>497_sep</th>\n",
              "      <th>497_test_main</th>\n",
              "      <th>497_}</th>\n",
              "      <th>498_\"</th>\n",
              "      <th>498_(</th>\n",
              "      <th>498_)</th>\n",
              "      <th>498_;</th>\n",
              "      <th>498_}</th>\n",
              "      <th>499_)</th>\n",
              "      <th>499_}</th>\n",
              "    </tr>\n",
              "  </thead>\n",
              "  <tbody>\n",
              "    <tr>\n",
              "      <th>0</th>\n",
              "      <td>0</td>\n",
              "      <td>0</td>\n",
              "      <td>0</td>\n",
              "      <td>0</td>\n",
              "      <td>0</td>\n",
              "      <td>0</td>\n",
              "      <td>0</td>\n",
              "      <td>0</td>\n",
              "      <td>0</td>\n",
              "      <td>0</td>\n",
              "      <td>...</td>\n",
              "      <td>0</td>\n",
              "      <td>0</td>\n",
              "      <td>0</td>\n",
              "      <td>0</td>\n",
              "      <td>0</td>\n",
              "      <td>0</td>\n",
              "      <td>0</td>\n",
              "      <td>0</td>\n",
              "      <td>0</td>\n",
              "      <td>0</td>\n",
              "    </tr>\n",
              "    <tr>\n",
              "      <th>1</th>\n",
              "      <td>0</td>\n",
              "      <td>1</td>\n",
              "      <td>0</td>\n",
              "      <td>0</td>\n",
              "      <td>0</td>\n",
              "      <td>0</td>\n",
              "      <td>0</td>\n",
              "      <td>0</td>\n",
              "      <td>0</td>\n",
              "      <td>0</td>\n",
              "      <td>...</td>\n",
              "      <td>0</td>\n",
              "      <td>0</td>\n",
              "      <td>0</td>\n",
              "      <td>0</td>\n",
              "      <td>0</td>\n",
              "      <td>0</td>\n",
              "      <td>0</td>\n",
              "      <td>0</td>\n",
              "      <td>0</td>\n",
              "      <td>0</td>\n",
              "    </tr>\n",
              "    <tr>\n",
              "      <th>2</th>\n",
              "      <td>1</td>\n",
              "      <td>0</td>\n",
              "      <td>0</td>\n",
              "      <td>0</td>\n",
              "      <td>0</td>\n",
              "      <td>0</td>\n",
              "      <td>0</td>\n",
              "      <td>0</td>\n",
              "      <td>0</td>\n",
              "      <td>0</td>\n",
              "      <td>...</td>\n",
              "      <td>0</td>\n",
              "      <td>0</td>\n",
              "      <td>0</td>\n",
              "      <td>0</td>\n",
              "      <td>0</td>\n",
              "      <td>0</td>\n",
              "      <td>0</td>\n",
              "      <td>0</td>\n",
              "      <td>0</td>\n",
              "      <td>0</td>\n",
              "    </tr>\n",
              "    <tr>\n",
              "      <th>3</th>\n",
              "      <td>1</td>\n",
              "      <td>0</td>\n",
              "      <td>0</td>\n",
              "      <td>0</td>\n",
              "      <td>0</td>\n",
              "      <td>0</td>\n",
              "      <td>0</td>\n",
              "      <td>0</td>\n",
              "      <td>0</td>\n",
              "      <td>0</td>\n",
              "      <td>...</td>\n",
              "      <td>0</td>\n",
              "      <td>0</td>\n",
              "      <td>0</td>\n",
              "      <td>0</td>\n",
              "      <td>0</td>\n",
              "      <td>0</td>\n",
              "      <td>0</td>\n",
              "      <td>0</td>\n",
              "      <td>0</td>\n",
              "      <td>0</td>\n",
              "    </tr>\n",
              "    <tr>\n",
              "      <th>4</th>\n",
              "      <td>0</td>\n",
              "      <td>0</td>\n",
              "      <td>0</td>\n",
              "      <td>0</td>\n",
              "      <td>0</td>\n",
              "      <td>0</td>\n",
              "      <td>0</td>\n",
              "      <td>0</td>\n",
              "      <td>0</td>\n",
              "      <td>0</td>\n",
              "      <td>...</td>\n",
              "      <td>0</td>\n",
              "      <td>0</td>\n",
              "      <td>0</td>\n",
              "      <td>0</td>\n",
              "      <td>0</td>\n",
              "      <td>0</td>\n",
              "      <td>0</td>\n",
              "      <td>0</td>\n",
              "      <td>0</td>\n",
              "      <td>0</td>\n",
              "    </tr>\n",
              "  </tbody>\n",
              "</table>\n",
              "<p>5 rows × 159524 columns</p>\n",
              "</div>"
            ],
            "text/plain": [
              "   0_\"  0_#  0_$  0_'''Mock  0_'''Test  0_'''Unittests  0_'''idlelib  \\\n",
              "0    0    0    0          0          0               0             0   \n",
              "1    0    1    0          0          0               0             0   \n",
              "2    1    0    0          0          0               0             0   \n",
              "3    1    0    0          0          0               0             0   \n",
              "4    0    0    0          0          0               0             0   \n",
              "\n",
              "   0_'Provides  0_'use  0_(  ...    497_sep  497_test_main  497_}  498_\"  \\\n",
              "0            0       0    0  ...          0              0      0      0   \n",
              "1            0       0    0  ...          0              0      0      0   \n",
              "2            0       0    0  ...          0              0      0      0   \n",
              "3            0       0    0  ...          0              0      0      0   \n",
              "4            0       0    0  ...          0              0      0      0   \n",
              "\n",
              "   498_(  498_)  498_;  498_}  499_)  499_}  \n",
              "0      0      0      0      0      0      0  \n",
              "1      0      0      0      0      0      0  \n",
              "2      0      0      0      0      0      0  \n",
              "3      0      0      0      0      0      0  \n",
              "4      0      0      0      0      0      0  \n",
              "\n",
              "[5 rows x 159524 columns]"
            ]
          },
          "metadata": {
            "tags": []
          },
          "execution_count": 40
        }
      ]
    },
    {
      "metadata": {
        "id": "AmiqVFHYhNBE",
        "colab_type": "code",
        "colab": {}
      },
      "cell_type": "code",
      "source": [
        "from sklearn.model_selection import train_test_split"
      ],
      "execution_count": 0,
      "outputs": []
    },
    {
      "metadata": {
        "id": "mXBSuD7oh2sV",
        "colab_type": "code",
        "colab": {}
      },
      "cell_type": "code",
      "source": [
        "X_train, X_test, y_train, y_test = train_test_split(modified_df, new_t['language'], test_size=0.33, random_state=42)"
      ],
      "execution_count": 0,
      "outputs": []
    },
    {
      "metadata": {
        "id": "s2Pwh4Xlib_i",
        "colab_type": "code",
        "colab": {}
      },
      "cell_type": "code",
      "source": [
        "from sklearn.tree import DecisionTreeClassifier"
      ],
      "execution_count": 0,
      "outputs": []
    },
    {
      "metadata": {
        "id": "bkF-1GYDidOX",
        "colab_type": "code",
        "colab": {}
      },
      "cell_type": "code",
      "source": [
        "dt=DecisionTreeClassifier(criterion='entropy', splitter='best')"
      ],
      "execution_count": 0,
      "outputs": []
    },
    {
      "metadata": {
        "id": "fgCYbtfijNws",
        "colab_type": "code",
        "colab": {
          "base_uri": "https://localhost:8080/",
          "height": 121
        },
        "outputId": "2d5b83ab-7af3-4e02-919c-a18bc27a3a1d"
      },
      "cell_type": "code",
      "source": [
        "dt.fit(X_train,y_train)"
      ],
      "execution_count": 47,
      "outputs": [
        {
          "output_type": "execute_result",
          "data": {
            "text/plain": [
              "DecisionTreeClassifier(class_weight=None, criterion='entropy', max_depth=None,\n",
              "            max_features=None, max_leaf_nodes=None,\n",
              "            min_impurity_decrease=0.0, min_impurity_split=None,\n",
              "            min_samples_leaf=1, min_samples_split=2,\n",
              "            min_weight_fraction_leaf=0.0, presort=False, random_state=None,\n",
              "            splitter='best')"
            ]
          },
          "metadata": {
            "tags": []
          },
          "execution_count": 47
        }
      ]
    },
    {
      "metadata": {
        "id": "t_RWat3GjQ8v",
        "colab_type": "code",
        "colab": {}
      },
      "cell_type": "code",
      "source": [
        "predictions = dt.predict(X_test)"
      ],
      "execution_count": 0,
      "outputs": []
    },
    {
      "metadata": {
        "id": "FKqqnpMQjUzQ",
        "colab_type": "code",
        "colab": {}
      },
      "cell_type": "code",
      "source": [
        "def matchings(pred,test):\n",
        "  \n",
        "  count = 0\n",
        "  \n",
        "  for u,v in zip(pred,test):\n",
        "    if u==v:\n",
        "      count+=1\n",
        "    else:\n",
        "      print u,v\n",
        "  \n",
        "  print \"matched predictions {asd} out of {total} accuracy is {acc}\".format(asd=count,total=len(test),acc=((count+0.0)*100/(len(test))))\n",
        "      "
      ],
      "execution_count": 0,
      "outputs": []
    },
    {
      "metadata": {
        "id": "7mE4MBWnkuUp",
        "colab_type": "code",
        "colab": {
          "base_uri": "https://localhost:8080/",
          "height": 121
        },
        "outputId": "bd4e6315-41d4-47cc-98d1-f45a3357ed19"
      },
      "cell_type": "code",
      "source": [
        "matchings(predictions,y_test)"
      ],
      "execution_count": 62,
      "outputs": [
        {
          "output_type": "stream",
          "text": [
            "py java\n",
            "sh py\n",
            "js py\n",
            "java py\n",
            "sh py\n",
            "matched predictions 957 out of 962 accuracy is 99.4802494802\n"
          ],
          "name": "stdout"
        }
      ]
    },
    {
      "metadata": {
        "id": "cq6tTssvp6PP",
        "colab_type": "code",
        "colab": {}
      },
      "cell_type": "code",
      "source": [
        ""
      ],
      "execution_count": 0,
      "outputs": []
    }
  ]
}